{
 "cells": [
  {
   "cell_type": "markdown",
   "id": "d3bfc191-8885-42ee-b0a0-bbab867c6f9f",
   "metadata": {
    "tags": []
   },
   "source": [
    "# Lab | Flow Control"
   ]
  },
  {
   "cell_type": "markdown",
   "id": "3851fcd1-cf98-4653-9c89-e003b7ec9400",
   "metadata": {},
   "source": [
    "## Exercise: Managing Customer Orders Optimized\n",
    "\n",
    "In the last lab, you were starting an online store that sells various products. To ensure smooth operations, you developed a program that manages customer orders and inventory.\n",
    "\n",
    "You did so without using flow control. Let's go a step further and improve this code.\n",
    "\n",
    "Follow the steps below to complete the exercise:\n",
    "\n",
    "1. Look at your code from the lab data structures, and improve repeated code with loops.\n",
    "\n",
    "2. Instead of asking the user to input the name of three products that a customer wants to order, do the following:\n",
    "    \n",
    "    a. Prompt the user to enter the name of a product that a customer wants to order.\n",
    "    \n",
    "    b. Add the product name to the \"customer_orders\" set.\n",
    "    \n",
    "    c. Ask the user if they want to add another product (yes/no).\n",
    "    \n",
    "    d. Continue the loop until the user does not want to add another product.\n",
    "\n",
    "3. Instead of updating the inventory by subtracting 1 from the quantity of each product, only do it for  the products that were ordered (those in \"customer_orders\")."
   ]
  },
  {
   "cell_type": "code",
   "execution_count": 1,
   "id": "0c8a1ed7-b291-496f-af6f-aeb5c1b462e5",
   "metadata": {},
   "outputs": [
    {
     "name": "stdin",
     "output_type": "stream",
     "text": [
      "Enter the quantity for t-shirt : 100\n",
      "Enter the quantity for mug : 50\n",
      "Enter the quantity for hat : 25\n",
      "Enter the quantity for book : 100\n",
      "Enter the quantity for keychain : 25\n"
     ]
    }
   ],
   "source": [
    "products = [\"t-shirt\",\"mug\",\"hat\",\"book\",\"keychain\"]\n",
    "inventory = {}\n",
    "\n",
    "#1\n",
    "for element in products:\n",
    "    quantity = int(input(\"Enter the quantity for \" + element + \" :\"))\n",
    "    inventory[element] = quantity\n",
    "\n",
    "customer_orders = set()"
   ]
  },
  {
   "cell_type": "code",
   "execution_count": 2,
   "id": "c0334ce7-40b4-48d7-bcc1-1abcd6e801b5",
   "metadata": {},
   "outputs": [
    {
     "name": "stdin",
     "output_type": "stream",
     "text": [
      "Enter a product:   t-shirt\n",
      "Do you want to add another product (yes/no)? yfer\n",
      "Sorry I didn't understand it. Do you want to add another product (yes/no)? yes\n",
      "Enter a product:   t-shirt\n",
      "Do you want to add another product (yes/no)? yes\n",
      "Enter a product:   hat\n",
      "Do you want to add another product (yes/no)? yes\n",
      "Enter a product:   mug\n",
      "Do you want to add another product (yes/no)? yes\n",
      "Enter a product:   mug\n",
      "Do you want to add another product (yes/no)? yes\n",
      "Enter a product:   mug\n",
      "Do you want to add another product (yes/no)? yes\n",
      "Enter a product:   book\n",
      "Do you want to add another product (yes/no)? no\n"
     ]
    }
   ],
   "source": [
    "#2\n",
    "\n",
    "products_list=[]\n",
    "state = True\n",
    "while state == True:\n",
    "    product_name = input(\"Enter a product:  \")\n",
    "    customer_orders.add(product_name)\n",
    "    products_list.append(product_name)\n",
    "    \n",
    "    question = input(\"Do you want to add another product (yes/no)?\")\n",
    "    while question != \"yes\" and question != \"no\":\n",
    "        question = input(\"Sorry I didn't understand it. Do you want to add another product (yes/no)?\")\n",
    "    if question == \"yes\":\n",
    "        state = True\n",
    "    elif question == \"no\":\n",
    "        state = False"
   ]
  },
  {
   "cell_type": "code",
   "execution_count": 3,
   "id": "4f5880fb-aec4-4551-8981-9990f9f89102",
   "metadata": {},
   "outputs": [
    {
     "name": "stdout",
     "output_type": "stream",
     "text": [
      "hat\n",
      "t-shirt\n",
      "mug\n",
      "book\n",
      "Order Statistics: \n",
      "Total Products Ordered: 7\n",
      "Percentage of Products Ordered: 2.3333333333333335%\n"
     ]
    }
   ],
   "source": [
    "#1\n",
    "for element in customer_orders:\n",
    "    print(element)\n",
    "\n",
    "total_product_ordered = len(products_list)\n",
    "total_products = inventory[\"t-shirt\"] + inventory[\"mug\"] + inventory[\"hat\"] + inventory[\"book\"] + inventory[\"keychain\"]\n",
    "percentage = (total_product_ordered/total_products)*100\n",
    "\n",
    "order_status = (total_product_ordered, percentage)\n",
    "\n",
    "print(\"Order Statistics: \\nTotal Products Ordered: \" + str(total_product_ordered) + \"\\nPercentage of Products Ordered: \" + str(percentage) + \"%\")"
   ]
  },
  {
   "cell_type": "code",
   "execution_count": 4,
   "id": "47a7e76a-caba-4238-8dd3-74f9956fedb2",
   "metadata": {},
   "outputs": [],
   "source": [
    "#3\n",
    "for product in products_list:\n",
    "    inventory[product] = inventory[product]-1"
   ]
  },
  {
   "cell_type": "code",
   "execution_count": 5,
   "id": "a19228b0-6ca4-4b6c-8ab1-6028f4df1e6e",
   "metadata": {},
   "outputs": [
    {
     "name": "stdout",
     "output_type": "stream",
     "text": [
      "98\n",
      "47\n",
      "24\n",
      "99\n",
      "25\n"
     ]
    }
   ],
   "source": [
    "#1\n",
    "for value in inventory.values():\n",
    "    print(value)"
   ]
  },
  {
   "cell_type": "code",
   "execution_count": null,
   "id": "6735185d-a9c0-436e-905d-fe240c681773",
   "metadata": {},
   "outputs": [],
   "source": []
  }
 ],
 "metadata": {
  "kernelspec": {
   "display_name": "Python 3 (ipykernel)",
   "language": "python",
   "name": "python3"
  },
  "language_info": {
   "codemirror_mode": {
    "name": "ipython",
    "version": 3
   },
   "file_extension": ".py",
   "mimetype": "text/x-python",
   "name": "python",
   "nbconvert_exporter": "python",
   "pygments_lexer": "ipython3",
   "version": "3.9.18"
  }
 },
 "nbformat": 4,
 "nbformat_minor": 5
}
